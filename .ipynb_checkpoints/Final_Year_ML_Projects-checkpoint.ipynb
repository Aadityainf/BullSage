{
 "cells": [
  {
   "cell_type": "code",
   "execution_count": 1,
   "id": "9efd26eb",
   "metadata": {},
   "outputs": [
    {
     "name": "stdout",
     "output_type": "stream",
     "text": [
      "Defaulting to user installation because normal site-packages is not writeable\n",
      "Requirement already satisfied: yfinance in c:\\users\\hp\\appdata\\roaming\\python\\python39\\site-packages (0.2.54)\n",
      "Requirement already satisfied: pandas>=1.3.0 in c:\\users\\hp\\appdata\\roaming\\python\\python39\\site-packages (from yfinance) (1.5.3)\n",
      "Requirement already satisfied: numpy>=1.16.5 in c:\\users\\hp\\appdata\\roaming\\python\\python39\\site-packages (from yfinance) (1.23.5)\n",
      "Requirement already satisfied: requests>=2.31 in c:\\users\\hp\\appdata\\roaming\\python\\python39\\site-packages (from yfinance) (2.32.3)\n",
      "Requirement already satisfied: multitasking>=0.0.7 in c:\\users\\hp\\appdata\\roaming\\python\\python39\\site-packages (from yfinance) (0.0.11)\n",
      "Requirement already satisfied: platformdirs>=2.0.0 in c:\\users\\hp\\appdata\\roaming\\python\\python39\\site-packages (from yfinance) (4.2.2)\n",
      "Requirement already satisfied: pytz>=2022.5 in c:\\users\\hp\\appdata\\roaming\\python\\python39\\site-packages (from yfinance) (2024.2)\n",
      "Requirement already satisfied: frozendict>=2.3.4 in c:\\users\\hp\\appdata\\roaming\\python\\python39\\site-packages (from yfinance) (2.4.5)\n",
      "Requirement already satisfied: peewee>=3.16.2 in c:\\users\\hp\\appdata\\roaming\\python\\python39\\site-packages (from yfinance) (3.17.6)\n",
      "Requirement already satisfied: beautifulsoup4>=4.11.1 in c:\\programdata\\anaconda3\\lib\\site-packages (from yfinance) (4.11.1)\n",
      "Requirement already satisfied: soupsieve>1.2 in c:\\programdata\\anaconda3\\lib\\site-packages (from beautifulsoup4>=4.11.1->yfinance) (2.3.1)\n",
      "Requirement already satisfied: python-dateutil>=2.8.1 in c:\\programdata\\anaconda3\\lib\\site-packages (from pandas>=1.3.0->yfinance) (2.8.2)\n",
      "Requirement already satisfied: charset-normalizer<4,>=2 in c:\\programdata\\anaconda3\\lib\\site-packages (from requests>=2.31->yfinance) (2.0.4)\n",
      "Requirement already satisfied: idna<4,>=2.5 in c:\\programdata\\anaconda3\\lib\\site-packages (from requests>=2.31->yfinance) (3.3)\n",
      "Requirement already satisfied: urllib3<3,>=1.21.1 in c:\\programdata\\anaconda3\\lib\\site-packages (from requests>=2.31->yfinance) (1.26.9)\n",
      "Requirement already satisfied: certifi>=2017.4.17 in c:\\programdata\\anaconda3\\lib\\site-packages (from requests>=2.31->yfinance) (2021.10.8)\n",
      "Requirement already satisfied: six>=1.5 in c:\\programdata\\anaconda3\\lib\\site-packages (from python-dateutil>=2.8.1->pandas>=1.3.0->yfinance) (1.16.0)\n"
     ]
    }
   ],
   "source": [
    "! pip install yfinance"
   ]
  },
  {
   "cell_type": "code",
   "execution_count": 2,
   "id": "0c1f554d",
   "metadata": {},
   "outputs": [],
   "source": [
    "import yfinance as yf\n",
    "import pandas as pd\n",
    "import numpy as np"
   ]
  },
  {
   "cell_type": "code",
   "execution_count": 3,
   "id": "18eb40ab",
   "metadata": {},
   "outputs": [
    {
     "name": "stdout",
     "output_type": "stream",
     "text": [
      "NumPy Version: 1.23.5\n"
     ]
    }
   ],
   "source": [
    "print(\"NumPy Version:\", np.__version__)"
   ]
  },
  {
   "cell_type": "code",
   "execution_count": null,
   "id": "9d008fa4",
   "metadata": {},
   "outputs": [],
   "source": [
    "import matplotlib.pyplot as plt\n",
    "import seaborn as sns\n",
    "import warnings\n",
    "warnings.filterwarnings(\"ignore\")"
   ]
  },
  {
   "cell_type": "code",
   "execution_count": null,
   "id": "eadbc389",
   "metadata": {},
   "outputs": [],
   "source": [
    "# Step 1: Load tickers from a CSV file\n",
    "tickers_df = pd.read_csv('Tickers.csv')  # Ensure this file contains updated tickers\n",
    "tickers = tickers_df['Ticker'].tolist()  # Adjust based on the column name in your CSV"
   ]
  },
  {
   "cell_type": "code",
   "execution_count": null,
   "id": "b9b8b612",
   "metadata": {},
   "outputs": [],
   "source": [
    "tickers"
   ]
  },
  {
   "cell_type": "code",
   "execution_count": null,
   "id": "f3d4a6eb",
   "metadata": {},
   "outputs": [],
   "source": [
    "from datetime import datetime, timedelta\n",
    "# Get today's date as the end date\n",
    "end_date = datetime.today().strftime('%Y-%m-%d')\n",
    "# Calculate the start date (10 years before end date)\n",
    "start_date = (datetime.today().replace(year=datetime.today().year - 10)).strftime('%Y-%m-%d')"
   ]
  },
  {
   "cell_type": "code",
   "execution_count": null,
   "id": "77fe627a",
   "metadata": {},
   "outputs": [],
   "source": [
    "print(\"Start Date:\", start_date)\n",
    "print(\"End Date:\", end_date)"
   ]
  },
  {
   "cell_type": "code",
   "execution_count": null,
   "id": "894a121e",
   "metadata": {},
   "outputs": [],
   "source": [
    "# Download historical data for each ticker without specifying date range\n",
    "data = yf.download(tickers, start=start_date, end=end_date, progress=False, auto_adjust=False)\n",
    "stock_data = data.stack(level=1).reset_index()\n",
    "# Rename columns to make it more clear\n",
    "stock_data.columns = ['Date', 'Ticker', 'Open', 'High', 'Low', 'Close', 'Adj Close', 'Volume']"
   ]
  },
  {
   "cell_type": "code",
   "execution_count": null,
   "id": "80357479",
   "metadata": {},
   "outputs": [],
   "source": [
    "stock_data.head()"
   ]
  },
  {
   "cell_type": "code",
   "execution_count": null,
   "id": "72dbdda9",
   "metadata": {},
   "outputs": [],
   "source": [
    "stock_data['Ticker'].value_counts()"
   ]
  },
  {
   "cell_type": "code",
   "execution_count": null,
   "id": "41d6bd20",
   "metadata": {},
   "outputs": [],
   "source": [
    "stock_data.tail()"
   ]
  },
  {
   "cell_type": "code",
   "execution_count": null,
   "id": "e8f0d5bd",
   "metadata": {},
   "outputs": [],
   "source": [
    "s_data = stock_data.copy()"
   ]
  },
  {
   "cell_type": "code",
   "execution_count": null,
   "id": "2f0455f2",
   "metadata": {},
   "outputs": [],
   "source": [
    "# View dimensions of dataset   \n",
    "rows, col = stock_data.shape\n",
    "print (\"Dimensions of dataset: {}\" . format (stock_data.shape))\n",
    "print ('Rows:', rows, '\\nColumns:', col)"
   ]
  },
  {
   "cell_type": "code",
   "execution_count": null,
   "id": "f23e07b1",
   "metadata": {},
   "outputs": [],
   "source": [
    "# Dtype\n",
    "print(f'The data type contains:\\n object --> {stock_data.dtypes.value_counts()[1]}\\n float64 --> {stock_data.dtypes.value_counts()[0]}')"
   ]
  },
  {
   "cell_type": "code",
   "execution_count": null,
   "id": "f573e8a7",
   "metadata": {},
   "outputs": [],
   "source": [
    "stock_data.info()"
   ]
  },
  {
   "cell_type": "code",
   "execution_count": null,
   "id": "05610bfc",
   "metadata": {},
   "outputs": [],
   "source": [
    "float_cols = stock_data.columns.drop([\"Ticker\",\"Date\"])\n",
    "stock_data[float_cols] = stock_data[float_cols].round().astype(\"Int64\")\n",
    "stock_data.head()"
   ]
  },
  {
   "cell_type": "code",
   "execution_count": null,
   "id": "6205678b",
   "metadata": {},
   "outputs": [],
   "source": [
    "stock_data.sort_values(by=\"Date\").head()"
   ]
  },
  {
   "cell_type": "code",
   "execution_count": null,
   "id": "1307b8fc",
   "metadata": {},
   "outputs": [],
   "source": [
    "stock_data1 = stock_data[(stock_data['Ticker'] == 'RELIANCE.NS')]    \n",
    "stock_data1.head()"
   ]
  },
  {
   "cell_type": "code",
   "execution_count": null,
   "id": "d8cf45f0",
   "metadata": {},
   "outputs": [],
   "source": [
    "# View dimensions of dataset   \n",
    "rows, col = stock_data1.shape\n",
    "print (\"Dimensions of dataset: {}\" . format (stock_data1.shape))\n",
    "print ('Rows:', rows, '\\nColumns:', col)"
   ]
  },
  {
   "cell_type": "code",
   "execution_count": null,
   "id": "691257a7",
   "metadata": {},
   "outputs": [],
   "source": [
    "# Dtype\n",
    "print(f'The data type contains:\\n object --> {stock_data1.dtypes.value_counts()[1]}\\n float64 --> {stock_data1.dtypes.value_counts()[0]}')"
   ]
  },
  {
   "cell_type": "code",
   "execution_count": null,
   "id": "6fef5590",
   "metadata": {},
   "outputs": [],
   "source": [
    "stock_data1.info()"
   ]
  },
  {
   "cell_type": "code",
   "execution_count": null,
   "id": "9310ba08",
   "metadata": {},
   "outputs": [],
   "source": [
    "stock_data2 = stock_data1.copy()"
   ]
  },
  {
   "cell_type": "code",
   "execution_count": null,
   "id": "bbffd670",
   "metadata": {},
   "outputs": [],
   "source": [
    "# Dtype\n",
    "print(f'The data type contains:\\n object --> {stock_data2.dtypes.value_counts()[1]}\\n int64 --> {stock_data2.dtypes.value_counts()[0]}')"
   ]
  },
  {
   "cell_type": "code",
   "execution_count": null,
   "id": "16317015",
   "metadata": {},
   "outputs": [],
   "source": [
    "stock_data2.info()"
   ]
  },
  {
   "cell_type": "code",
   "execution_count": null,
   "id": "1fd405e9",
   "metadata": {},
   "outputs": [],
   "source": [
    "stock_data2.sort_values(by=\"Date\").head()"
   ]
  },
  {
   "cell_type": "code",
   "execution_count": null,
   "id": "37dc8d94",
   "metadata": {},
   "outputs": [],
   "source": [
    "# Plotting count plot by year\n",
    "Year = stock_data2['Date'].dt.year"
   ]
  },
  {
   "cell_type": "code",
   "execution_count": null,
   "id": "a3d61cbe",
   "metadata": {},
   "outputs": [],
   "source": [
    "plt.figure(figsize = (20, 10))\n",
    "sns.set_style('darkgrid')\n",
    "ax=sns.countplot(data=stock_data2, x=Year, palette='viridis')\n",
    "for cont in ax.containers:\n",
    "    ax.bar_label(cont)\n",
    "plt.ylabel(\"Count\", fontsize= 15)\n",
    "plt.xlabel(\"Year\", fontsize= 15)\n",
    "plt.xticks(rotation=90)\n",
    "plt.show()"
   ]
  },
  {
   "cell_type": "code",
   "execution_count": null,
   "id": "eb0a1f85",
   "metadata": {},
   "outputs": [],
   "source": [
    "# Target-Date\n",
    "sns.jointplot(data=stock_data2, x=\"Date\", y=\"Adj Close\")\n",
    "sns.set_style('darkgrid')\n",
    "plt.ylabel(\"Adj Close\", fontsize=11)\n",
    "plt.xlabel(\"Date\", fontsize=11)\n",
    "plt.show()"
   ]
  },
  {
   "cell_type": "code",
   "execution_count": null,
   "id": "007db3be",
   "metadata": {},
   "outputs": [],
   "source": [
    "# The data distribution in \"Volume\"\n",
    "plt.figure(figsize=(7,5), dpi=80)\n",
    "sns.kdeplot(data=stock_data2, x=\"Volume\", fill=True, common_norm=False,\n",
    "            palette=\"crest\", alpha=.5, linewidth=0)\n",
    "plt.show()"
   ]
  },
  {
   "cell_type": "code",
   "execution_count": null,
   "id": "eaebf659",
   "metadata": {},
   "outputs": [],
   "source": [
    "# Assessing the 0 values of the \"Volume\" column\n",
    "len(stock_data2[stock_data2[\"Volume\"]==0])"
   ]
  },
  {
   "cell_type": "code",
   "execution_count": null,
   "id": "3fd45b94",
   "metadata": {},
   "outputs": [],
   "source": [
    "stock_data3 = stock_data2[stock_data2[\"Volume\"] != 0]"
   ]
  },
  {
   "cell_type": "code",
   "execution_count": null,
   "id": "a382a528",
   "metadata": {},
   "outputs": [],
   "source": [
    "stock_data3.head()"
   ]
  },
  {
   "cell_type": "code",
   "execution_count": null,
   "id": "d5a78cf9",
   "metadata": {},
   "outputs": [],
   "source": [
    "# Assessing the 0 values of the \"Volume\" column\n",
    "len(stock_data3[stock_data3[\"Volume\"]==0])"
   ]
  },
  {
   "cell_type": "code",
   "execution_count": null,
   "id": "89dcf095",
   "metadata": {},
   "outputs": [],
   "source": [
    "# Assessing the 0 values of the \"Volume\" column\n",
    "len(stock_data[stock_data[\"Volume\"]==0])"
   ]
  },
  {
   "cell_type": "code",
   "execution_count": null,
   "id": "6d28a74f",
   "metadata": {},
   "outputs": [],
   "source": [
    "stock_data = stock_data[stock_data[\"Volume\"] != 0]"
   ]
  },
  {
   "cell_type": "code",
   "execution_count": null,
   "id": "ca4ce809",
   "metadata": {},
   "outputs": [],
   "source": [
    "s_data2=stock_data.copy()"
   ]
  },
  {
   "cell_type": "code",
   "execution_count": null,
   "id": "aa007903",
   "metadata": {},
   "outputs": [],
   "source": [
    "# Plotting count plot by year\n",
    "Year1 = stock_data['Date'].dt.year"
   ]
  },
  {
   "cell_type": "code",
   "execution_count": null,
   "id": "aef1d7a0",
   "metadata": {},
   "outputs": [],
   "source": [
    "plt.figure(figsize = (20, 10))\n",
    "sns.set_style('darkgrid')\n",
    "ax=sns.countplot(data=stock_data, x=Year1, palette='viridis')\n",
    "for cont in ax.containers:\n",
    "    ax.bar_label(cont)\n",
    "plt.ylabel(\"Count\", fontsize= 15)\n",
    "plt.xlabel(\"Year\", fontsize= 15)\n",
    "plt.xticks(rotation=90)\n",
    "plt.show()"
   ]
  },
  {
   "cell_type": "code",
   "execution_count": null,
   "id": "2a6d1c9f",
   "metadata": {},
   "outputs": [],
   "source": [
    "for i in stock_data.columns.drop(['Ticker','Date']):\n",
    "    print(\"The min value of \",i,\" is \",stock_data[i].min())"
   ]
  },
  {
   "cell_type": "code",
   "execution_count": null,
   "id": "9ec29f90",
   "metadata": {},
   "outputs": [],
   "source": [
    "for i in stock_data.columns.drop(['Ticker','Date']):\n",
    "    print(\"The max value of \",i,\" is \",stock_data[i].max())"
   ]
  },
  {
   "cell_type": "code",
   "execution_count": null,
   "id": "0cd7c203",
   "metadata": {},
   "outputs": [],
   "source": [
    "missing_values = pd.DataFrame(stock_data.isnull().sum(), columns=['Missing Values'])\n",
    "missing_values"
   ]
  },
  {
   "cell_type": "code",
   "execution_count": null,
   "id": "d48e4518",
   "metadata": {},
   "outputs": [],
   "source": [
    "columns_no_varience = []\n",
    "for col in stock_data.columns:\n",
    "    if len(stock_data[col].unique()) ==1:\n",
    "        columns_no_varience.append(col)\n",
    "        stock_data.drop([col], axis = 1, inplace = True)\n",
    "print(columns_no_varience)\n",
    "print (stock_data.shape)"
   ]
  },
  {
   "cell_type": "code",
   "execution_count": null,
   "id": "6dfdb7c4",
   "metadata": {},
   "outputs": [],
   "source": [
    "duplicate_rows = stock_data.duplicated()\n",
    "print(duplicate_rows.any())\n",
    "stock_data.drop_duplicates(inplace = True)\n",
    "print(stock_data.shape)"
   ]
  },
  {
   "cell_type": "code",
   "execution_count": null,
   "id": "caed8796",
   "metadata": {},
   "outputs": [],
   "source": [
    "## Checking For Duplicated Rows in Data\n",
    "stock_data.duplicated().sum()"
   ]
  },
  {
   "cell_type": "code",
   "execution_count": null,
   "id": "de3c32ab",
   "metadata": {},
   "outputs": [],
   "source": [
    "stock_data_numerical_columns = ['Open', 'High', 'Close', 'Low', 'Adj Close']\n",
    "for column in stock_data_numerical_columns:\n",
    "    print('Skewness of', column, 'before outlier treatment: ', stock_data[column].skew())"
   ]
  },
  {
   "cell_type": "code",
   "execution_count": null,
   "id": "0f05187e",
   "metadata": {},
   "outputs": [],
   "source": [
    "stock_data[['Open', 'High', 'Close', 'Low', 'Adj Close']].hist (figsize = (15,7),\n",
    "       color = 'dodgerblue', density = True, edgecolor = 'black', linewidth = 0.5 )\n",
    "plt.show()"
   ]
  },
  {
   "cell_type": "code",
   "execution_count": null,
   "id": "652a39b6",
   "metadata": {},
   "outputs": [],
   "source": [
    "stock_data[['Open', 'High', 'Close', 'Low', 'Adj Close']].plot(kind = 'box',\n",
    "                                                                        subplots = True, layout = (2,3), figsize = (17,5))\n",
    "plt.show()"
   ]
  },
  {
   "cell_type": "code",
   "execution_count": null,
   "id": "ffa685b5",
   "metadata": {},
   "outputs": [],
   "source": [
    "stock_data_numerical_columns = ['Open', 'High', 'Close', 'Low', 'Adj Close']\n",
    "for column in stock_data_numerical_columns:\n",
    "    Q1 = stock_data[column].quantile(0.25)\n",
    "    Q3 = stock_data[column].quantile(0.75)\n",
    "    IQR = Q3 - Q1\n",
    "    lower = Q1 - 1.5 * IQR\n",
    "    upper = Q3 + 1.5 * IQR\n",
    "\n",
    "    # Drop NaN values before comparison\n",
    "    column_data = stock_data[column].dropna()\n",
    "    outliers = [x for x in column_data if x < lower or x > upper]\n",
    "\n",
    "    print(column)\n",
    "    print('Identified outliers: %d' % len(outliers))\n",
    "    print('*' * 40)"
   ]
  },
  {
   "cell_type": "code",
   "execution_count": null,
   "id": "b815ae07",
   "metadata": {},
   "outputs": [],
   "source": [
    "# Drop all NaN values\n",
    "stock_data = stock_data.dropna()"
   ]
  },
  {
   "cell_type": "code",
   "execution_count": null,
   "id": "c3da1310",
   "metadata": {},
   "outputs": [],
   "source": [
    "stock_data['Open'].isna().sum()"
   ]
  },
  {
   "cell_type": "code",
   "execution_count": null,
   "id": "d9502a75",
   "metadata": {},
   "outputs": [],
   "source": [
    "stock_data['Open'].plot(kind='density', figsize = (4, 3))\n",
    "plt.title('Density Plot of Open before imputation')\n",
    "plt.axvline(x=stock_data['Open'].mean(), color='red', linestyle='--', label='Mean')\n",
    "plt.legend()\n",
    "plt.show()"
   ]
  },
  {
   "cell_type": "code",
   "execution_count": null,
   "id": "0bbad2c0",
   "metadata": {},
   "outputs": [],
   "source": [
    "Skewness_of_Open = stock_data['Open'].skew()\n",
    "Skewness_of_Open"
   ]
  },
  {
   "cell_type": "code",
   "execution_count": null,
   "id": "61ae99e2",
   "metadata": {},
   "outputs": [],
   "source": [
    "stock_data['Close'].isna().sum()"
   ]
  },
  {
   "cell_type": "code",
   "execution_count": null,
   "id": "05490442",
   "metadata": {},
   "outputs": [],
   "source": [
    "stock_data['Close'].plot(kind='density', figsize = (4, 3))\n",
    "plt.title('Density Plot of Close before imputation')\n",
    "plt.axvline(x=stock_data['Close'].mean(), color='red', linestyle='--', label='Mean')\n",
    "plt.legend()\n",
    "plt.show()"
   ]
  },
  {
   "cell_type": "code",
   "execution_count": null,
   "id": "45bde200",
   "metadata": {},
   "outputs": [],
   "source": [
    "Skewness_of_close = stock_data['Close'].skew()\n",
    "Skewness_of_close"
   ]
  },
  {
   "cell_type": "code",
   "execution_count": null,
   "id": "6fbb18f2",
   "metadata": {},
   "outputs": [],
   "source": [
    "stock_data['Low'].isna().sum()"
   ]
  },
  {
   "cell_type": "code",
   "execution_count": null,
   "id": "d5fc9e17",
   "metadata": {},
   "outputs": [],
   "source": [
    "stock_data['Low'].plot(kind='density', figsize = (4, 3))\n",
    "plt.title('Density Plot of Low before imputation')\n",
    "plt.axvline(x=stock_data['Low'].mean(), color='red', linestyle='--', label='Mean')\n",
    "plt.legend()\n",
    "plt.show()"
   ]
  },
  {
   "cell_type": "code",
   "execution_count": null,
   "id": "102f89f3",
   "metadata": {},
   "outputs": [],
   "source": [
    "Skewness_of_low = stock_data['Low'].skew()\n",
    "Skewness_of_low"
   ]
  },
  {
   "cell_type": "code",
   "execution_count": null,
   "id": "05ac6260",
   "metadata": {},
   "outputs": [],
   "source": [
    "stock_data['High'].isna().sum()"
   ]
  },
  {
   "cell_type": "code",
   "execution_count": null,
   "id": "3a3ba760",
   "metadata": {},
   "outputs": [],
   "source": [
    "stock_data['High'].plot(kind='density', figsize = (4, 3))\n",
    "plt.title('Density Plot of High before imputation')\n",
    "plt.axvline(x=stock_data['High'].mean(), color='red', linestyle='--', label='Mean')\n",
    "plt.legend()\n",
    "plt.show()"
   ]
  },
  {
   "cell_type": "code",
   "execution_count": null,
   "id": "418e9cef",
   "metadata": {},
   "outputs": [],
   "source": [
    "Skewness_of_high = stock_data['High'].skew()\n",
    "Skewness_of_high"
   ]
  },
  {
   "cell_type": "code",
   "execution_count": null,
   "id": "4eefd351",
   "metadata": {},
   "outputs": [],
   "source": [
    "stock_data['Adj Close'].isna().sum()"
   ]
  },
  {
   "cell_type": "code",
   "execution_count": null,
   "id": "d88b1555",
   "metadata": {},
   "outputs": [],
   "source": [
    "stock_data['Adj Close'].plot(kind='density', figsize = (4, 3))\n",
    "plt.title('Density Plot of Adj Close before imputation')\n",
    "plt.axvline(x=stock_data['High'].mean(), color='red', linestyle='--', label='Mean')\n",
    "plt.legend()\n",
    "plt.show()"
   ]
  },
  {
   "cell_type": "code",
   "execution_count": null,
   "id": "7b97d584",
   "metadata": {},
   "outputs": [],
   "source": [
    "Skewness_of_high = stock_data['Adj Close'].skew()\n",
    "Skewness_of_high"
   ]
  },
  {
   "cell_type": "code",
   "execution_count": null,
   "id": "e6d0910d",
   "metadata": {},
   "outputs": [],
   "source": [
    "stock_data['Volume'].isna().sum()"
   ]
  },
  {
   "cell_type": "code",
   "execution_count": null,
   "id": "9ff60a06",
   "metadata": {},
   "outputs": [],
   "source": [
    "Skewness_of_vol = stock_data['Volume'].skew()\n",
    "Skewness_of_vol"
   ]
  },
  {
   "cell_type": "code",
   "execution_count": null,
   "id": "ffb20043",
   "metadata": {},
   "outputs": [],
   "source": [
    "import matplotlib.pyplot as plt\n",
    "import seaborn as sns\n",
    "\n",
    "plt.figure(figsize=(14, 6))  # Increase figure size for better visibility\n",
    "\n",
    "# Use seaborn style\n",
    "sns.set_style('whitegrid')\n",
    "\n",
    "# Plot each ticker’s close price\n",
    "for ticker in stock_data['Ticker'].unique():\n",
    "    plt.plot(stock_data[stock_data['Ticker'] == ticker]['Date'], \n",
    "             stock_data[stock_data['Ticker'] == ticker]['Close'], \n",
    "             label=ticker, linewidth=2)  # Add label and set line width\n",
    "\n",
    "# Formatting the plot\n",
    "plt.xlabel(\"Date\", fontsize=12)\n",
    "plt.ylabel(\"Close Price\", fontsize=12)\n",
    "plt.title(\"Close Prices of Multiple Stock Tickers\", fontsize=14, fontweight='bold')\n",
    "plt.legend(title=\"Tickers\", bbox_to_anchor=(1.05, 1), loc='upper left')  # Legend outside for clarity\n",
    "plt.xticks(rotation=45)  # Rotate x-axis labels for readability\n",
    "plt.grid(True, linestyle='--', alpha=0.6)  # Add dashed grid lines\n",
    "\n",
    "# Show plot\n",
    "plt.show()\n"
   ]
  },
  {
   "cell_type": "code",
   "execution_count": null,
   "id": "d25a2e6d",
   "metadata": {},
   "outputs": [],
   "source": [
    "stock_data['Ticker'].value_counts()"
   ]
  },
  {
   "cell_type": "code",
   "execution_count": null,
   "id": "ffa2020a",
   "metadata": {},
   "outputs": [],
   "source": [
    "stock_data.loc[(stock_data['Ticker'] == 'MARUTI.BO') , 'Ticker'] = np.nan"
   ]
  },
  {
   "cell_type": "code",
   "execution_count": null,
   "id": "eb49f051",
   "metadata": {},
   "outputs": [],
   "source": [
    "missing_values = pd.DataFrame(stock_data.isnull().sum(), columns=['Missing Values'])\n",
    "missing_values"
   ]
  },
  {
   "cell_type": "code",
   "execution_count": null,
   "id": "16cf8c17",
   "metadata": {},
   "outputs": [],
   "source": [
    "stock_data = stock_data.dropna(subset=['Ticker'])"
   ]
  },
  {
   "cell_type": "code",
   "execution_count": null,
   "id": "96ca96f6",
   "metadata": {},
   "outputs": [],
   "source": [
    "missing_values = pd.DataFrame(stock_data.isnull().sum(), columns=['Missing Values'])\n",
    "missing_values"
   ]
  },
  {
   "cell_type": "code",
   "execution_count": null,
   "id": "74a0f9c4",
   "metadata": {},
   "outputs": [],
   "source": [
    "stock_data['Ticker'].value_counts()"
   ]
  },
  {
   "cell_type": "code",
   "execution_count": null,
   "id": "f966324b",
   "metadata": {},
   "outputs": [],
   "source": [
    "import matplotlib.pyplot as plt\n",
    "import seaborn as sns\n",
    "\n",
    "plt.figure(figsize=(14, 6))  # Increase figure size for better visibility\n",
    "\n",
    "# Use seaborn style\n",
    "sns.set_style('whitegrid')\n",
    "\n",
    "# Plot each ticker’s close price\n",
    "for ticker in stock_data['Ticker'].unique():\n",
    "    plt.plot(stock_data[stock_data['Ticker'] == ticker]['Date'], \n",
    "             stock_data[stock_data['Ticker'] == ticker]['Close'], \n",
    "             label=ticker, linewidth=2)  # Add label and set line width\n",
    "\n",
    "# Formatting the plot\n",
    "plt.xlabel(\"Date\", fontsize=12)\n",
    "plt.ylabel(\"Close Price\", fontsize=12)\n",
    "plt.title(\"Close Prices of Multiple Stock Tickers\", fontsize=14, fontweight='bold')\n",
    "plt.legend(title=\"Tickers\", bbox_to_anchor=(1.05, 1), loc='upper left')  # Legend outside for clarity\n",
    "plt.xticks(rotation=45)  # Rotate x-axis labels for readability\n",
    "plt.grid(True, linestyle='--', alpha=0.6)  # Add dashed grid lines\n",
    "\n",
    "# Show plot\n",
    "plt.show()"
   ]
  },
  {
   "cell_type": "code",
   "execution_count": null,
   "id": "ebe6f802",
   "metadata": {},
   "outputs": [],
   "source": [
    "stock_data[['Open', 'High', 'Close', 'Low', 'Adj Close']].plot(kind = 'box',\n",
    "                                                                        subplots = True, layout = (2,3), figsize = (17,5))\n",
    "plt.show()"
   ]
  },
  {
   "cell_type": "code",
   "execution_count": null,
   "id": "72ea6920",
   "metadata": {},
   "outputs": [],
   "source": [
    "stock_data[['Open', 'High', 'Close', 'Low', 'Adj Close']].hist (figsize = (15,7),\n",
    "       color = 'dodgerblue', density = True, edgecolor = 'black', linewidth = 0.5 )\n",
    "plt.show()"
   ]
  },
  {
   "cell_type": "code",
   "execution_count": null,
   "id": "960be86f",
   "metadata": {},
   "outputs": [],
   "source": [
    "# Now let's plot the total volume of stock being traded each day over the past year\n",
    "stock_data3['Volume'].plot(legend=True, figsize=(10,4))"
   ]
  },
  {
   "cell_type": "code",
   "execution_count": null,
   "id": "e605334c",
   "metadata": {},
   "outputs": [],
   "source": [
    "# Condition for Bullish case: Low ≤ Open ≤ Close ≤ High\n",
    "bullish_condition = (stock_data[\"Low\"] <= stock_data[\"Open\"]) & (stock_data[\"Open\"] <= stock_data[\"Close\"]) & (stock_data[\"Close\"] <= stock_data[\"High\"])\n",
    "# Condition for Bearish case: Low ≤ Close ≤ Open ≤ High\n",
    "bearish_condition = (stock_data[\"Low\"] <= stock_data[\"Close\"]) & (stock_data[\"Close\"] <= stock_data[\"Open\"]) & (stock_data[\"Open\"] <= stock_data[\"High\"])\n",
    "# Rows that do not satisfy either condition\n",
    "invalid_rows = stock_data[~(bullish_condition | bearish_condition)]\n",
    "# Print invalid rows if any\n",
    "if not invalid_rows.empty:\n",
    "    print(\"Invalid rows found that do not match Bullish or Bearish cases:\")\n",
    "    print(invalid_rows)\n",
    "else:\n",
    "    print(\"All rows in stock_data are valid.\")"
   ]
  },
  {
   "cell_type": "code",
   "execution_count": null,
   "id": "1ecf953b",
   "metadata": {},
   "outputs": [],
   "source": [
    "# Fix the Low price if it's higher than Open or Close\n",
    "stock_data.loc[stock_data[\"Low\"] > stock_data[\"Open\"], \"Low\"] = stock_data[\"Open\"]\n",
    "stock_data.loc[stock_data[\"Low\"] > stock_data[\"Close\"], \"Low\"] = stock_data[\"Close\"]"
   ]
  },
  {
   "cell_type": "code",
   "execution_count": null,
   "id": "8022a76b",
   "metadata": {},
   "outputs": [],
   "source": [
    "# Re-check if all rows are now valid\n",
    "bullish_condition = (stock_data[\"Low\"] <= stock_data[\"Open\"]) & (stock_data[\"Open\"] <= stock_data[\"Close\"]) & (stock_data[\"Close\"] <= stock_data[\"High\"])\n",
    "bearish_condition = (stock_data[\"Low\"] <= stock_data[\"Close\"]) & (stock_data[\"Close\"] <= stock_data[\"Open\"]) & (stock_data[\"Open\"] <= stock_data[\"High\"])\n",
    "\n",
    "# Find still invalid rows\n",
    "invalid_rows = stock_data[~(bullish_condition | bearish_condition)]\n",
    "\n",
    "if invalid_rows.empty:\n",
    "    print(\"All rows are now valid!\")\n",
    "else:\n",
    "    print(\"Some rows are still invalid:\")\n",
    "    print(invalid_rows)"
   ]
  },
  {
   "cell_type": "code",
   "execution_count": null,
   "id": "c9f46574",
   "metadata": {},
   "outputs": [],
   "source": [
    "stock_data.describe()"
   ]
  },
  {
   "cell_type": "code",
   "execution_count": null,
   "id": "7014cfde",
   "metadata": {},
   "outputs": [],
   "source": [
    "stock_data.corr()   "
   ]
  },
  {
   "cell_type": "code",
   "execution_count": null,
   "id": "67e131fe",
   "metadata": {},
   "outputs": [],
   "source": [
    "# plot lineplot\n",
    "stock = 'RELIANCE.NS'\n",
    "plt.figure(figsize = (10,5))\n",
    "sns.lineplot(data = stock_data3,x='Date',y='Adj Close')\n",
    "plt.title(f'{stock} Closing Price')\n",
    "plt.show()"
   ]
  },
  {
   "cell_type": "code",
   "execution_count": null,
   "id": "3652c8a3",
   "metadata": {},
   "outputs": [],
   "source": [
    "stock_data3['Volume'].plot(legend=True,figsize=(10,4))"
   ]
  },
  {
   "cell_type": "code",
   "execution_count": null,
   "id": "9fee3754",
   "metadata": {},
   "outputs": [],
   "source": [
    "Tech_list=stock_data[\"Ticker\"].unique()\n",
    "Tech_list"
   ]
  },
  {
   "cell_type": "code",
   "execution_count": null,
   "id": "819e69dc",
   "metadata": {},
   "outputs": [],
   "source": [
    "plt.figure(figsize=(20,15))\n",
    "for i, company in enumerate(Tech_list,1):\n",
    "    plt.subplot(5,4,i)\n",
    "    plt.title(company)\n",
    "    df=stock_data[stock_data[\"Ticker\"]== company]\n",
    "    plt.plot(df[\"Date\"], df[\"Close\"])\n",
    "    plt.xticks(rotation=\"vertical\")"
   ]
  },
  {
   "cell_type": "code",
   "execution_count": null,
   "id": "52a5f04b",
   "metadata": {},
   "outputs": [],
   "source": [
    "import plotly.express as px\n",
    "for comapny in Tech_list:\n",
    "    df= stock_data[stock_data[\"Ticker\"]== company]\n",
    "    plot=px.line(df,x=\"Date\",y= \"Volume\",title=comapny)\n",
    "    plot.show()"
   ]
  },
  {
   "cell_type": "code",
   "execution_count": null,
   "id": "afc697b5",
   "metadata": {},
   "outputs": [],
   "source": [
    "stock_data3.head()"
   ]
  },
  {
   "cell_type": "code",
   "execution_count": null,
   "id": "3250821c",
   "metadata": {},
   "outputs": [],
   "source": [
    "col=['Open','Close','Low','High','Adj Close']\n",
    "stock_data3[col] = stock_data3[col].astype(float)"
   ]
  },
  {
   "cell_type": "code",
   "execution_count": null,
   "id": "7d2e289e",
   "metadata": {},
   "outputs": [],
   "source": [
    "stock_data3[\"Daily price change\"]= stock_data3[\"Close\"]-stock_data3[\"Open\"]"
   ]
  },
  {
   "cell_type": "code",
   "execution_count": null,
   "id": "03d67cf7",
   "metadata": {},
   "outputs": [],
   "source": [
    "stock_data3.head()"
   ]
  },
  {
   "cell_type": "code",
   "execution_count": null,
   "id": "58329361",
   "metadata": {},
   "outputs": [],
   "source": [
    "stock_data3[\"% daily price change\"]= ((stock_data3[\"Daily price change\"])/stock_data3[\"Close\"])*100"
   ]
  },
  {
   "cell_type": "code",
   "execution_count": null,
   "id": "76d1fb1d",
   "metadata": {},
   "outputs": [],
   "source": [
    "stock_data3.head()"
   ]
  },
  {
   "cell_type": "code",
   "execution_count": null,
   "id": "57fe4941",
   "metadata": {},
   "outputs": [],
   "source": [
    "plot=px.line(stock_data3, x=\"Date\", y=\"% daily price change\", title= \"RELIANCE.NS\")\n",
    "plot.show()"
   ]
  },
  {
   "cell_type": "code",
   "execution_count": null,
   "id": "0edebaf8",
   "metadata": {},
   "outputs": [],
   "source": [
    "fig = px.line(stock_data3, x=\"Date\", y=\"% daily price change\", title='Daily price change in stock' ,template = 'plotly_dark')\n",
    "fig.show()"
   ]
  },
  {
   "cell_type": "code",
   "execution_count": null,
   "id": "cdda9a1f",
   "metadata": {},
   "outputs": [],
   "source": [
    "stock_data3[\"Smoothed Change\"] = stock_data3[\"% daily price change\"].rolling(window=20).mean()"
   ]
  },
  {
   "cell_type": "code",
   "execution_count": null,
   "id": "fabed862",
   "metadata": {},
   "outputs": [],
   "source": [
    "plot = px.line(stock_data3, x=\"Date\", y=\"Smoothed Change\", title=\"RELIANCE.NS - Smoothed Daily Price Change\")\n",
    "plot.show()"
   ]
  },
  {
   "cell_type": "code",
   "execution_count": null,
   "id": "34cc9e75",
   "metadata": {},
   "outputs": [],
   "source": [
    "stock_data3.info()"
   ]
  },
  {
   "cell_type": "code",
   "execution_count": null,
   "id": "2ca35893",
   "metadata": {},
   "outputs": [],
   "source": [
    "# Convert 'Date' column to datetime if it's not already in datetime format\n",
    "stock_data3['Date'] = pd.to_datetime(stock_data3['Date'])\n",
    "# Set 'Date' as the index\n",
    "stock_data3.set_index('Date', inplace=True)\n",
    "# Now you can resample by month and plot the mean of 'Close' prices\n",
    "stock_data3['Close'].resample('M').mean().plot()"
   ]
  },
  {
   "cell_type": "code",
   "execution_count": null,
   "id": "eda5fc60",
   "metadata": {},
   "outputs": [],
   "source": [
    "stock_data3['Close'].resample('Y').mean().plot()"
   ]
  },
  {
   "cell_type": "code",
   "execution_count": null,
   "id": "cda5b9b1",
   "metadata": {},
   "outputs": [],
   "source": [
    "# Pivot the dataset to get Close prices for each ticker\n",
    "close_prices = s_data.pivot(columns='Ticker', values='Close')\n",
    "# Reset the index to simple integers\n",
    "close_prices.reset_index(drop=True, inplace=True)\n",
    "# Assign index as 1, 2, 3...\n",
    "close_prices.index = range(1, len(close_prices) + 1)"
   ]
  },
  {
   "cell_type": "code",
   "execution_count": null,
   "id": "4dabdd48",
   "metadata": {},
   "outputs": [],
   "source": [
    "close_prices.head()"
   ]
  },
  {
   "cell_type": "code",
   "execution_count": null,
   "id": "60eb5dcc",
   "metadata": {},
   "outputs": [],
   "source": [
    "# Fill missing values using forward fill\n",
    "close_prices.fillna(method='ffill', inplace=True)\n",
    "# Optionally, use backward fill\n",
    "close_prices.fillna(method='bfill', inplace=True)"
   ]
  },
  {
   "cell_type": "code",
   "execution_count": null,
   "id": "4bed2237",
   "metadata": {},
   "outputs": [],
   "source": [
    "close_prices.head()"
   ]
  },
  {
   "cell_type": "code",
   "execution_count": null,
   "id": "1c685706",
   "metadata": {},
   "outputs": [],
   "source": [
    "close_prices.isnull().sum()"
   ]
  },
  {
   "cell_type": "code",
   "execution_count": null,
   "id": "fc753c17",
   "metadata": {},
   "outputs": [],
   "source": [
    "missing_values = pd.DataFrame(close_prices.isnull().sum(), columns=['Missing Values'])\n",
    "missing_values"
   ]
  },
  {
   "cell_type": "code",
   "execution_count": null,
   "id": "1ecead9f",
   "metadata": {},
   "outputs": [],
   "source": [
    "sns.pairplot(data=close_prices)"
   ]
  },
  {
   "cell_type": "code",
   "execution_count": null,
   "id": "fcbb58c7",
   "metadata": {},
   "outputs": [],
   "source": [
    "sns.heatmap(close_prices.corr(),annot=True,cmap='gray_r',linecolor=\"black\")"
   ]
  },
  {
   "cell_type": "code",
   "execution_count": null,
   "id": "8d862497",
   "metadata": {},
   "outputs": [],
   "source": [
    "plt.figure(figsize=(10,10))\n",
    "stock_data3['Close'].resample(\"Y\").mean().plot(kind=\"bar\")\n",
    "plt.xticks(rotation=\"vertical\")"
   ]
  },
  {
   "cell_type": "code",
   "execution_count": null,
   "id": "e07fce83",
   "metadata": {},
   "outputs": [],
   "source": [
    "# Let's see a historical view of the closing price\n",
    "stock_data3['Close'].plot(legend=True, figsize = (12, 6))\n",
    "plt.show()"
   ]
  },
  {
   "cell_type": "code",
   "execution_count": null,
   "id": "b79fd0b9",
   "metadata": {},
   "outputs": [],
   "source": [
    "# Now let's plot the total volume of stock being traded each day over the past 5 years\n",
    "stock_data3['Volume'].plot(legend=True,figsize=(10,4))\n",
    "plt.show()"
   ]
  },
  {
   "cell_type": "code",
   "execution_count": null,
   "id": "7c73445e",
   "metadata": {},
   "outputs": [],
   "source": [
    "# Let's go ahead and plot out several moving averages\n",
    "ma_day = [10,20,50]\n",
    "for ma in ma_day:\n",
    "    column_name = \"MA for %s days\" %(str(ma))\n",
    "    stock_data3[column_name]=pd.DataFrame.rolling(stock_data3['Close'],ma).mean()"
   ]
  },
  {
   "cell_type": "code",
   "execution_count": null,
   "id": "e65f99a2",
   "metadata": {},
   "outputs": [],
   "source": [
    "stock_data3[['Close','MA for 10 days','MA for 20 days','MA for 50 days']].plot(subplots=False,figsize=(12,6))\n",
    "plt.show()"
   ]
  },
  {
   "cell_type": "code",
   "execution_count": null,
   "id": "bf00f4b8",
   "metadata": {},
   "outputs": [],
   "source": [
    "# use pct_change to find the percent change for each day\n",
    "stock_data3['Daily price change'] =  stock_data3['Close'].pct_change()\n",
    "# plot the daily return percentage\n",
    "stock_data3['Daily price change'].plot(figsize=(12,5),legend=True,linestyle='--',marker='o')\n",
    "plt.show()"
   ]
  },
  {
   "cell_type": "code",
   "execution_count": null,
   "id": "3e096368",
   "metadata": {},
   "outputs": [],
   "source": [
    "s_data.info()"
   ]
  },
  {
   "cell_type": "code",
   "execution_count": null,
   "id": "c927d94f",
   "metadata": {},
   "outputs": [],
   "source": [
    "# Step 2: Recalculate the Daily Return\n",
    "s_data['Daily_Return'] = ((s_data['Close'] - s_data['Open']) / s_data['Close']) * 100"
   ]
  },
  {
   "cell_type": "code",
   "execution_count": null,
   "id": "9e28c9b6",
   "metadata": {},
   "outputs": [],
   "source": [
    "# Pivot the dataset to organize by Ticker\n",
    "daily_returns = s_data.pivot(index='Date', columns='Ticker', values='Daily_Return')\n",
    "\n",
    "# Reset the index to integers if required\n",
    "daily_returns.reset_index(drop=True, inplace=True)\n",
    "daily_returns.index = range(1, len(daily_returns) + 1)\n",
    "daily_returns.head() "
   ]
  },
  {
   "cell_type": "code",
   "execution_count": null,
   "id": "a4c32f34",
   "metadata": {},
   "outputs": [],
   "source": [
    "daily_returns = daily_returns.drop(columns=[\"ADANIPOWER.BO\"])\n",
    "daily_returns.head() "
   ]
  },
  {
   "cell_type": "code",
   "execution_count": null,
   "id": "6fcfa664",
   "metadata": {},
   "outputs": [],
   "source": [
    "sns.pairplot(data=daily_returns)"
   ]
  },
  {
   "cell_type": "code",
   "execution_count": null,
   "id": "f1156103",
   "metadata": {},
   "outputs": [],
   "source": [
    "sns.heatmap(daily_returns.corr(),annot=True,cmap='gray_r',linecolor=\"black\")"
   ]
  },
  {
   "cell_type": "code",
   "execution_count": null,
   "id": "5182aca3",
   "metadata": {},
   "outputs": [],
   "source": [
    "stock_data3.head()"
   ]
  },
  {
   "cell_type": "code",
   "execution_count": null,
   "id": "07903963",
   "metadata": {},
   "outputs": [],
   "source": [
    "missing_values = pd.DataFrame(stock_data3.isnull().sum(), columns=['Missing Values'])\n",
    "missing_values"
   ]
  },
  {
   "cell_type": "code",
   "execution_count": null,
   "id": "984c7b2d",
   "metadata": {},
   "outputs": [],
   "source": [
    "# Fill missing values using forward fill\n",
    "stock_data3.fillna(method='ffill', inplace=True)\n",
    "# Optionally, use backward fill\n",
    "stock_data3.fillna(method='bfill', inplace=True)"
   ]
  },
  {
   "cell_type": "code",
   "execution_count": null,
   "id": "a71ead45",
   "metadata": {},
   "outputs": [],
   "source": [
    "missing_values = pd.DataFrame(stock_data3.isnull().sum(), columns=['Missing Values'])\n",
    "missing_values"
   ]
  },
  {
   "cell_type": "code",
   "execution_count": null,
   "id": "c63e8567",
   "metadata": {},
   "outputs": [],
   "source": [
    "stock_data.head()"
   ]
  },
  {
   "cell_type": "code",
   "execution_count": null,
   "id": "8fe516f8",
   "metadata": {},
   "outputs": [],
   "source": [
    "col=['Open','Close','High','Low','Adj Close']\n",
    "stock_data[col]=stock_data[col].astype(float)"
   ]
  },
  {
   "cell_type": "code",
   "execution_count": null,
   "id": "acc258fa",
   "metadata": {},
   "outputs": [],
   "source": [
    "stock_data.head()"
   ]
  },
  {
   "cell_type": "code",
   "execution_count": null,
   "id": "05ae0116",
   "metadata": {},
   "outputs": [],
   "source": [
    "stock_data[\"Daily price change\"]= stock_data[\"Close\"]-stock_data[\"Open\"]"
   ]
  },
  {
   "cell_type": "code",
   "execution_count": null,
   "id": "f54328fa",
   "metadata": {},
   "outputs": [],
   "source": [
    "stock_data.head()"
   ]
  },
  {
   "cell_type": "code",
   "execution_count": null,
   "id": "39648e3f",
   "metadata": {},
   "outputs": [],
   "source": [
    "stock_data[\"% daily price change\"]= ((stock_data[\"Daily price change\"])/stock_data[\"Close\"])*100"
   ]
  },
  {
   "cell_type": "code",
   "execution_count": null,
   "id": "65921e46",
   "metadata": {},
   "outputs": [],
   "source": [
    "# Fetch stock data for each ticker and store it in a dictionary\n",
    "all_stock_data = {}\n",
    "\n",
    "for ticker in tickers:\n",
    "    all_stock_data[ticker] = stock_data  # Store in dictionary\n",
    "\n",
    "# Define the subplot grid (2 rows, 4 columns)\n",
    "nrows, ncols = 2, 5  \n",
    "fig, axes = plt.subplots(nrows=nrows, ncols=ncols, figsize=(18, 10))  # Set figure size\n",
    "\n",
    "# Flatten the axes array for easier iteration\n",
    "axes = axes.flatten()\n",
    "\n",
    "# Plot each ticker's daily price change on its respective subplot\n",
    "for i, ticker in enumerate(tickers):\n",
    "    axes[i].plot(all_stock_data[ticker].index, all_stock_data[ticker][\"% daily price change\"], color=\"blue\", alpha=0.6)\n",
    "    axes[i].set_title(ticker)  # Set title as the ticker name\n",
    "    axes[i].tick_params(axis='x', rotation=30)  # Rotate x-axis labels for better readability\n",
    "    axes[i].set_ylabel(\"% Daily Price Change\")\n",
    "\n",
    "# Adjust layout for better spacing\n",
    "plt.tight_layout()\n",
    "plt.show()"
   ]
  },
  {
   "cell_type": "code",
   "execution_count": null,
   "id": "088c43f1",
   "metadata": {},
   "outputs": [],
   "source": [
    "stock_data[\"Smoothed Change\"] = stock_data[\"% daily price change\"].rolling(window=30).mean()  # Apply smoothing\n",
    "stock_data.dropna(inplace=True)  # Remove NaN values"
   ]
  },
  {
   "cell_type": "code",
   "execution_count": null,
   "id": "4e3591d3",
   "metadata": {},
   "outputs": [],
   "source": [
    "# Fetch stock data for each ticker and store it in a dictionary\n",
    "all_stock_data = {}\n",
    "\n",
    "for ticker in tickers:\n",
    "    all_stock_data[ticker] = stock_data  # Store in dictionary\n",
    "\n",
    "# Define the subplot grid (2 rows, 4 columns)\n",
    "nrows, ncols = 2, 5  \n",
    "fig, axes = plt.subplots(nrows=nrows, ncols=ncols, figsize=(18, 10))  # Set figure size\n",
    "\n",
    "# Flatten the axes array for easier iteration\n",
    "axes = axes.flatten()\n",
    "\n",
    "# Plot each ticker's daily price change on its respective subplot\n",
    "for i, ticker in enumerate(tickers):\n",
    "    axes[i].plot(all_stock_data[ticker].index, all_stock_data[ticker][\"Smoothed Change\"], color=\"blue\", alpha=0.6)\n",
    "    axes[i].set_title(ticker)  # Set title as the ticker name\n",
    "    axes[i].tick_params(axis='x', rotation=30)  # Rotate x-axis labels for better readability\n",
    "    axes[i].set_ylabel(\"Smoothed Change\")\n",
    "\n",
    "# Adjust layout for better spacing\n",
    "plt.tight_layout()\n",
    "plt.show()"
   ]
  },
  {
   "cell_type": "code",
   "execution_count": null,
   "id": "0dd3a996",
   "metadata": {},
   "outputs": [],
   "source": [
    "# Convert 'Date' column to datetime if it's not already in datetime format\n",
    "stock_data['Date'] = pd.to_datetime(stock_data['Date'])\n",
    "stock_data.set_index('Date', inplace=True)"
   ]
  },
  {
   "cell_type": "code",
   "execution_count": null,
   "id": "669640bc",
   "metadata": {},
   "outputs": [],
   "source": [
    "# use pct_change to find the percent change for each day\n",
    "stock_data['Daily price change'] =  stock_data['Close'].pct_change()"
   ]
  },
  {
   "cell_type": "code",
   "execution_count": null,
   "id": "abc1f7a1",
   "metadata": {},
   "outputs": [],
   "source": [
    "missing_values = pd.DataFrame(stock_data.isnull().sum(), columns=['Missing Values'])\n",
    "missing_values"
   ]
  },
  {
   "cell_type": "code",
   "execution_count": null,
   "id": "250ec76b",
   "metadata": {},
   "outputs": [],
   "source": [
    "stock_data = stock_data.dropna(subset=['Daily price change'])"
   ]
  },
  {
   "cell_type": "code",
   "execution_count": null,
   "id": "642b6a55",
   "metadata": {},
   "outputs": [],
   "source": [
    "missing_values = pd.DataFrame(stock_data.isnull().sum(), columns=['Missing Values'])\n",
    "missing_values"
   ]
  },
  {
   "cell_type": "code",
   "execution_count": null,
   "id": "10954dd8",
   "metadata": {},
   "outputs": [],
   "source": [
    "# Let's go ahead and plot out several moving averages\n",
    "ma_day = [10,20,50]\n",
    "for ma in ma_day:\n",
    "    column_name = \"MA for %s days\" %(str(ma))\n",
    "    stock_data[column_name]=pd.DataFrame.rolling(stock_data['Close'],ma).mean()\n",
    "stock_data.dropna(inplace=True)  # Remove NaN values"
   ]
  },
  {
   "cell_type": "code",
   "execution_count": null,
   "id": "23b371f4",
   "metadata": {},
   "outputs": [],
   "source": [
    "missing_values = pd.DataFrame(stock_data.isnull().sum(), columns=['Missing Values'])\n",
    "missing_values"
   ]
  },
  {
   "cell_type": "code",
   "execution_count": null,
   "id": "7b47514b",
   "metadata": {},
   "outputs": [],
   "source": [
    "stock_data[\"EMA_10\"] = stock_data[\"Close\"].ewm(span=10, adjust=False).mean()  # Short-term trend\n",
    "stock_data[\"EMA_50\"] = stock_data[\"Close\"].ewm(span=50, adjust=False).mean()  # Medium-term trend\n",
    "stock_data[\"EMA_200\"] = stock_data[\"Close\"].ewm(span=200, adjust=False).mean()  # Long-term trend"
   ]
  },
  {
   "cell_type": "code",
   "execution_count": null,
   "id": "def96479",
   "metadata": {},
   "outputs": [],
   "source": [
    "stock_data.head()"
   ]
  },
  {
   "cell_type": "code",
   "execution_count": null,
   "id": "648e8205",
   "metadata": {},
   "outputs": [],
   "source": [
    "# Create target variable (Close Price after 365 days)\n",
    "stock_data[\"Close_365\"] = stock_data[\"Adj Close\"].shift(-365)\n",
    "# Drop rows with NaN target values (since shifting creates NaNs)\n",
    "stock_data = stock_data.dropna()"
   ]
  },
  {
   "cell_type": "code",
   "execution_count": null,
   "id": "1d0aea3c",
   "metadata": {},
   "outputs": [],
   "source": [
    "stock_data.columns"
   ]
  },
  {
   "cell_type": "code",
   "execution_count": null,
   "id": "3f25df10",
   "metadata": {},
   "outputs": [],
   "source": [
    "delta = stock_data['Adj Close'].diff()\n",
    "gain = (delta.where(delta > 0, 0)).rolling(window=14).mean()\n",
    "loss = (-delta.where(delta < 0, 0)).rolling(window=14).mean()\n",
    "rs = gain / loss\n",
    "stock_data['RSI_14'] = 100 - (100 / (1 + rs))\n",
    "\n",
    "stock_data['SMA_20'] = stock_data['Adj Close'].rolling(window=20).mean()\n",
    "stock_data['BB_Upper'] = stock_data['SMA_20'] + (stock_data['Close'].rolling(window=20).std() * 2)\n",
    "stock_data['BB_Lower'] = stock_data['SMA_20'] - (stock_data['Close'].rolling(window=20).std() * 2)\n",
    "\n",
    "stock_data['MACD'] = stock_data['EMA_10'] - stock_data['EMA_50']"
   ]
  },
  {
   "cell_type": "code",
   "execution_count": null,
   "id": "aba285cc",
   "metadata": {},
   "outputs": [],
   "source": [
    "stock_data.head()"
   ]
  },
  {
   "cell_type": "code",
   "execution_count": null,
   "id": "0993ebff",
   "metadata": {},
   "outputs": [],
   "source": [
    "missing_values = pd.DataFrame(stock_data.isnull().sum(), columns=['Missing Values'])\n",
    "missing_values"
   ]
  },
  {
   "cell_type": "code",
   "execution_count": null,
   "id": "07a30dd1",
   "metadata": {},
   "outputs": [],
   "source": [
    "# Drop rows with NaN target values (since shifting creates NaNs)\n",
    "stock_data = stock_data.dropna()"
   ]
  },
  {
   "cell_type": "code",
   "execution_count": null,
   "id": "4d2dd263",
   "metadata": {},
   "outputs": [],
   "source": [
    "missing_values = pd.DataFrame(stock_data.isnull().sum(), columns=['Missing Values'])\n",
    "missing_values"
   ]
  },
  {
   "cell_type": "code",
   "execution_count": null,
   "id": "4a058f6b",
   "metadata": {},
   "outputs": [],
   "source": [
    "import seaborn as sns\n",
    "import matplotlib.pyplot as plt\n",
    "\n",
    "# Calculate correlation\n",
    "correlation_matrix = stock_data.corr()\n",
    "\n",
    "# Plot heatmap\n",
    "plt.figure(figsize=(10,8))\n",
    "sns.heatmap(correlation_matrix, annot=True, cmap=\"coolwarm\", fmt=\".2f\")\n",
    "plt.title(\"Feature Correlation Matrix\")\n",
    "plt.show()"
   ]
  },
  {
   "cell_type": "code",
   "execution_count": null,
   "id": "907160dd",
   "metadata": {},
   "outputs": [],
   "source": [
    "# Define features (X) and target variable (y)\n",
    "X = stock_data.drop(columns=[\"Close_365\",\"Ticker\",\"Volume\",\"Adj Close\"])  # Drop the target variable\n",
    "y = stock_data[\"Close_365\"]  # Target variable (Close price after 365 days)"
   ]
  },
  {
   "cell_type": "code",
   "execution_count": null,
   "id": "2c4412f3",
   "metadata": {},
   "outputs": [],
   "source": [
    "from sklearn.preprocessing import MinMaxScaler\n",
    "from keras.layers import LSTM, Dense, Dropout\n",
    "from sklearn.metrics import mean_squared_error, r2_score\n",
    "from sklearn import linear_model\n",
    "from keras.models import Sequential\n",
    "import keras.backend as K  # Corrected import syntax\n",
    "from keras.callbacks import EarlyStopping  # Corrected \"Callbacks\" to \"callbacks\"\n",
    "from keras.optimizers import Adam  # Corrected \"Optimisers\" to \"optimizers\"\n",
    "from keras.models import load_model  # Corrected \"Models\" to \"models\"\n",
    "from keras.utils import plot_model  # Corrected \"utils. vis_utils\" spacing"
   ]
  },
  {
   "cell_type": "code",
   "execution_count": null,
   "id": "3d4951ab",
   "metadata": {},
   "outputs": [],
   "source": [
    "from sklearn.model_selection import train_test_split\n",
    "X_train, X_test, y_train, y_test = train_test_split(X, y, test_size = 0.2, random_state = 42)\n",
    "print(X_train.shape)\n",
    "print(X_test.shape)\n",
    "print(y_train.shape)\n",
    "print(y_test.shape)"
   ]
  },
  {
   "cell_type": "code",
   "execution_count": null,
   "id": "43cfa59f",
   "metadata": {},
   "outputs": [],
   "source": [
    "Scaler = MinMaxScaler()\n",
    "X_train_scaled = Scaler.fit_transform(X_train)\n",
    "X_test_scaled = Scaler.transform(X_test)\n",
    "\n",
    "# Scale y\n",
    "Scaler_y = MinMaxScaler()\n",
    "y_train_scaled = Scaler_y.fit_transform(y_train.values.reshape(-1, 1))\n",
    "y_test_scaled = Scaler_y.transform(y_test.values.reshape(-1, 1))"
   ]
  },
  {
   "cell_type": "code",
   "execution_count": null,
   "id": "5f5c88de",
   "metadata": {},
   "outputs": [],
   "source": [
    "from sklearn.linear_model import LinearRegression\n",
    "from sklearn.metrics import mean_absolute_error\n",
    "\n",
    "# Initialize and train the Linear Regression model\n",
    "lr_model = LinearRegression()\n",
    "lr_model.fit(X_train_scaled, y_train_scaled)"
   ]
  },
  {
   "cell_type": "code",
   "execution_count": null,
   "id": "3d78451e",
   "metadata": {},
   "outputs": [],
   "source": [
    "# Make predictions\n",
    "y_pred = lr_model.predict(X_test_scaled)"
   ]
  },
  {
   "cell_type": "code",
   "execution_count": null,
   "id": "a56629f3",
   "metadata": {},
   "outputs": [],
   "source": [
    "# Model Evaluation\n",
    "mae = mean_absolute_error(y_test_scaled, y_pred)\n",
    "mse = mean_squared_error(y_test_scaled, y_pred)\n",
    "rmse = np.sqrt(mse)\n",
    "r2 = r2_score(y_test_scaled, y_pred)\n",
    "\n",
    "# Print results\n",
    "print(\"Model Evaluation:\")\n",
    "print(f\"Mean Absolute Error (MAE): {mae:.2f}\")\n",
    "print(f\"Mean Squared Error (MSE): {mse:.2f}\")\n",
    "print(f\"Root Mean Squared Error (RMSE): {rmse:.2f}\")\n",
    "print(f\"R² Score: {r2:.4f}\")"
   ]
  },
  {
   "cell_type": "code",
   "execution_count": null,
   "id": "87a9bc46",
   "metadata": {},
   "outputs": [],
   "source": [
    "# Convert DataFrame to NumPy array before reshaping\n",
    "X_train_array = np.array(X_train_scaled)  # Convert DataFrame to NumPy\n",
    "X_test_array = np.array(X_test_scaled)    # Convert DataFrame to NumPy\n",
    "\n",
    "# Reshape for LSTM (3D input: [samples, timesteps, features])\n",
    "X_train_reshaped = X_train_array.reshape((X_train_array.shape[0], 1, X_train_array.shape[1]))\n",
    "X_test_reshaped = X_test_array.reshape((X_test_array.shape[0], 1, X_test_array.shape[1]))"
   ]
  },
  {
   "cell_type": "code",
   "execution_count": null,
   "id": "883e1350",
   "metadata": {},
   "outputs": [],
   "source": [
    "# Build Improved LSTM Model\n",
    "lstm_model = Sequential([\n",
    "    LSTM(256, return_sequences=True, activation='tanh', input_shape=(1, X_train_reshaped.shape[2])),\n",
    "    Dropout(0.3),  # Regularization to prevent overfitting\n",
    "    LSTM(128, return_sequences=False, activation='tanh'),\n",
    "    Dropout(0.3),\n",
    "    Dense(64, activation='tanh'),\n",
    "    Dense(1)  # Output layer (single continuous value for stock price)\n",
    "])"
   ]
  },
  {
   "cell_type": "code",
   "execution_count": null,
   "id": "7f515ffb",
   "metadata": {},
   "outputs": [],
   "source": [
    "import tensorflow as tf\n",
    "# Compile Model with Adam Optimizer & Learning Rate Scheduling\n",
    "lstm_model.compile(optimizer=tf.keras.optimizers.Adam(learning_rate=0.001), loss='mse')"
   ]
  },
  {
   "cell_type": "code",
   "execution_count": null,
   "id": "80f58747",
   "metadata": {
    "scrolled": false
   },
   "outputs": [],
   "source": [
    "early_stopping = EarlyStopping(\n",
    "    monitor='val_loss',  \n",
    "    patience=10,  # Stop if val_loss doesn't improve for 10 epochs\n",
    "    restore_best_weights=True,  \n",
    "    verbose=1\n",
    ")\n",
    "history = lstm_model.fit(X_train_reshaped, y_train_scaled, epochs=100, batch_size=64, validation_data=(X_test_reshaped, y_test_scaled), callbacks=[early_stopping])"
   ]
  },
  {
   "cell_type": "code",
   "execution_count": null,
   "id": "3355eb03",
   "metadata": {},
   "outputs": [],
   "source": [
    "#  Make Predictions\n",
    "y_pred_lstm = lstm_model.predict(X_test_reshaped)"
   ]
  },
  {
   "cell_type": "code",
   "execution_count": null,
   "id": "8ee7b144",
   "metadata": {},
   "outputs": [],
   "source": [
    "# Inverse transform\n",
    "y_pred_actual = Scaler_y.inverse_transform(y_pred_lstm)\n",
    "y_test_actual = Scaler_y.inverse_transform(y_test_scaled)"
   ]
  },
  {
   "cell_type": "code",
   "execution_count": null,
   "id": "e6977c5a",
   "metadata": {},
   "outputs": [],
   "source": [
    "# Metrics\n",
    "mse = mean_squared_error(y_test_actual, y_pred_actual)\n",
    "rmse = np.sqrt(mse)\n",
    "r2 = r2_score(y_test_actual, y_pred_actual)\n",
    "print(f\"Mean Squared Error (MSE): {mse:.2f}\")\n",
    "print(f\"Root Mean Squared Error (RMSE): {rmse:.2f}\")\n",
    "print(f\"R² Score: {r2:.4f}\")"
   ]
  },
  {
   "cell_type": "code",
   "execution_count": null,
   "id": "4308e1a6",
   "metadata": {},
   "outputs": [],
   "source": [
    "# Assuming `lstm_model` is your trained model\n",
    "import tensorflow as tf\n",
    "# Assuming `lstm_model` is your trained model\n",
    "lstm_model.save(\"stock_price.keras\")  # Save the model in .keras"
   ]
  },
  {
   "cell_type": "code",
   "execution_count": null,
   "id": "ebf28c97",
   "metadata": {},
   "outputs": [],
   "source": [
    "print(lstm_model.input_shape)  # Check expected input shape"
   ]
  },
  {
   "cell_type": "code",
   "execution_count": null,
   "id": "a7241a28",
   "metadata": {},
   "outputs": [],
   "source": [
    "import pickle\n",
    "# ---- Save the scaler ----\n",
    "with open('scaler_x.pkl', 'wb') as f:\n",
    "    pickle.dump(Scaler, f)\n",
    "# Save output scaler\n",
    "with open(\"scaler_y.pkl\", \"wb\") as f:\n",
    "    pickle.dump(Scaler_y, f)"
   ]
  },
  {
   "cell_type": "code",
   "execution_count": null,
   "id": "03c06972",
   "metadata": {},
   "outputs": [],
   "source": [
    "from sklearn.svm import SVR\n",
    "\n",
    "# Define an SVR model\n",
    "svm_model = SVR(kernel=\"rbf\", C=100, gamma=0.1, epsilon=0.01)\n",
    "\n",
    "# Train the model on scaled training data (X_train, y_train)\n",
    "svm_model.fit(X_train_scaled, y_train_scaled.ravel())"
   ]
  },
  {
   "cell_type": "code",
   "execution_count": null,
   "id": "ff5183b0",
   "metadata": {},
   "outputs": [],
   "source": [
    "# Make predictions\n",
    "y_pred_svm = svm_model.predict(X_test_scaled)"
   ]
  },
  {
   "cell_type": "code",
   "execution_count": null,
   "id": "e9885f35",
   "metadata": {},
   "outputs": [],
   "source": [
    "# Model Evaluation\n",
    "mae = mean_absolute_error(y_test_scaled, y_pred_svm)\n",
    "mse = mean_squared_error(y_test_scaled, y_pred_svm)\n",
    "rmse = np.sqrt(mse)\n",
    "r2 = r2_score(y_test_scaled, y_pred_svm)\n",
    "\n",
    "# Print results\n",
    "print(\"Model Evaluation:\")\n",
    "print(f\"Mean Absolute Error (MAE): {mae:.2f}\")\n",
    "print(f\"Mean Squared Error (MSE): {mse:.2f}\")\n",
    "print(f\"Root Mean Squared Error (RMSE): {rmse:.2f}\")\n",
    "print(f\"R² Score: {r2:.4f}\")"
   ]
  },
  {
   "cell_type": "code",
   "execution_count": null,
   "id": "4d6e744d",
   "metadata": {},
   "outputs": [],
   "source": [
    "# Save the trained SVM model\n",
    "with open(\"svm_stock_model.pkl\", \"wb\") as f:\n",
    "    pickle.dump(svm_model, f)"
   ]
  },
  {
   "cell_type": "code",
   "execution_count": null,
   "id": "97d11ac3",
   "metadata": {},
   "outputs": [],
   "source": [
    "print(\"Input Shape for SVM Model:\", X_train_scaled.shape)"
   ]
  }
 ],
 "metadata": {
  "kernelspec": {
   "display_name": "Python 3 (ipykernel)",
   "language": "python",
   "name": "python3"
  },
  "language_info": {
   "codemirror_mode": {
    "name": "ipython",
    "version": 3
   },
   "file_extension": ".py",
   "mimetype": "text/x-python",
   "name": "python",
   "nbconvert_exporter": "python",
   "pygments_lexer": "ipython3",
   "version": "3.9.12"
  }
 },
 "nbformat": 4,
 "nbformat_minor": 5
}
